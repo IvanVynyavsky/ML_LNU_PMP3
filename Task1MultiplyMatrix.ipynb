{
 "cells": [
  {
   "cell_type": "code",
   "execution_count": 12,
   "metadata": {},
   "outputs": [
    {
     "name": "stdout",
     "output_type": "stream",
     "text": [
      "[[7 0 3 ... 0 4 6]\n",
      " [2 3 8 ... 2 0 0]\n",
      " [7 2 9 ... 0 2 9]\n",
      " ...\n",
      " [9 4 1 ... 4 0 3]\n",
      " [3 6 8 ... 4 4 0]\n",
      " [3 6 4 ... 5 7 9]]\n",
      "\n",
      "[[5 9 6 ... 8 7 2]\n",
      " [0 7 5 ... 8 5 0]\n",
      " [2 5 4 ... 6 6 5]\n",
      " ...\n",
      " [0 5 9 ... 3 2 3]\n",
      " [8 7 0 ... 8 4 3]\n",
      " [9 9 8 ... 1 1 3]]\n",
      "\n",
      "Seconds  = 0.9972748756408691\n",
      "\n",
      "Seconds  = 0.000997304916381836\n",
      "\n",
      "Seconds  = 0.0\n",
      "\n",
      "Difference  = 0.9972748756408691\n"
     ]
    }
   ],
   "source": [
    "import numpy as np\n",
    "import time\n",
    "n = 100\n",
    "m = 100\n",
    "q = 100\n",
    "ran_max = 10\n",
    "X = np.random.randint(ran_max, size=(n, m))\n",
    "Y = np.random.randint(ran_max, size=(m, q))\n",
    "print(X)\n",
    "print()\n",
    "print(Y)\n",
    "print()\n",
    "s = (m, q)\n",
    "###\n",
    "result1 = np.zeros(s)\n",
    "start_time1 = time.time()\n",
    "for i in range(len(X)):\n",
    "   for j in range(len(Y[0])):\n",
    "       for k in range(len(Y)):\n",
    "           result1[i][j] += X[i][k] * Y[k][j]\n",
    "finish_time1 = time.time()\n",
    "print(\"Seconds  =\", finish_time1 - start_time1)\n",
    "print()\n",
    "###\n",
    "#If both a and b are 2-D arrays, it is matrix multiplication, but using matmul or a @ b is preferred\n",
    "#If either a or b is 0-D (scalar), it is equivalent to multiply and using numpy.multiply(a, b) or a * b is preferred\n",
    "###\n",
    "result2 = np.zeros(s)\n",
    "start_time2 = time.time()\n",
    "result2 = np.matmul(X,Y)\n",
    "finish_time2 = time.time()\n",
    "print(\"Seconds  =\", finish_time2 - start_time2)\n",
    "print()\n",
    "####\n",
    "result3 = np.zeros(s)\n",
    "start_time3 = time.time()\n",
    "result3 = np.dot(X,Y)\n",
    "finish_time3 = time.time()\n",
    "print(\"Seconds  =\", finish_time3 - start_time3)\n",
    "print()\n",
    "####\n",
    "print(\"Difference  =\", finish_time1 - start_time1 - finish_time3 + start_time3  )\n",
    "\n",
    "\n",
    "#for r in result2:\n",
    "#   print(r)\n",
    "#print()\n",
    "#for r in result3:\n",
    "#   print(r)\n",
    "#print()"
   ]
  },
  {
   "cell_type": "code",
   "execution_count": null,
   "metadata": {},
   "outputs": [],
   "source": []
  },
  {
   "cell_type": "code",
   "execution_count": null,
   "metadata": {},
   "outputs": [],
   "source": []
  }
 ],
 "metadata": {
  "kernelspec": {
   "display_name": "Python 3",
   "language": "python",
   "name": "python3"
  },
  "language_info": {
   "codemirror_mode": {
    "name": "ipython",
    "version": 3
   },
   "file_extension": ".py",
   "mimetype": "text/x-python",
   "name": "python",
   "nbconvert_exporter": "python",
   "pygments_lexer": "ipython3",
   "version": "3.7.4"
  }
 },
 "nbformat": 4,
 "nbformat_minor": 2
}
