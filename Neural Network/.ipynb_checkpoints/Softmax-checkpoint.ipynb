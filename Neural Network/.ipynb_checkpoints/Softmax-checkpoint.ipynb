{
 "cells": [
  {
   "cell_type": "code",
   "execution_count": 4,
   "metadata": {},
   "outputs": [],
   "source": [
    "import numpy as np\n",
    "import pandas as pd\n",
    "from sklearn.model_selection import train_test_split\n",
    "from sklearn.neural_network import MLPClassifier\n",
    "from mpl_toolkits.mplot3d import Axes3D\n",
    "import matplotlib.pyplot as plt\n",
    "\n",
    "from matplotlib.colors import ListedColormap\n",
    "cm_bright = ListedColormap(['#FF0000', '#0000FF'])\n",
    "%matplotlib inline\n",
    "from sklearn.metrics import accuracy_score\n",
    "\n",
    "import sklearn.linear_model"
   ]
  },
  {
   "cell_type": "code",
   "execution_count": 5,
   "metadata": {},
   "outputs": [],
   "source": [
    "def plot_surface(cls, x_1, x_2, ax=None, threshold=0.5, contourf=False):\n",
    "    xx1, xx2 = np.meshgrid(np.linspace(x_1.min(), x_1.max(), 100), \n",
    "                           np.linspace(x_2.min(), x_2.max(), 100))\n",
    "\n",
    "    X_pred = np.c_[xx1.ravel(), xx2.ravel()]\n",
    "    pred = cls.predict_proba(X_pred)[:, 0]\n",
    "    Z = pred.reshape((100, 100))\n",
    "    if ax is None:\n",
    "        ax = plt.gca()\n",
    "    ax.contour(xx1, xx2, Z, levels=[threshold], colors='black')\n",
    "    ax.set_xlim((x_1.min(), x_1.max()))\n",
    "    ax.set_ylim((x_2.min(), x_2.max()))"
   ]
  },
  {
   "cell_type": "code",
   "execution_count": 6,
   "metadata": {},
   "outputs": [],
   "source": [
    "def plot_data(X, y):\n",
    "    ax = plt.gca()\n",
    "    ax.scatter(X[:,0], X[:,1], c=(y == 1), cmap=cm_bright)"
   ]
  },
  {
   "cell_type": "code",
   "execution_count": 30,
   "metadata": {},
   "outputs": [],
   "source": [
    "class NeuralNet:\n",
    "    \"\"\"\n",
    "    NN for binary classification\n",
    "    Attributes:\n",
    "    ...\n",
    "    \"\"\"\n",
    "    \n",
    "    def __init__(self, hidden_layer_sizes, normalize = True, learning_rate = 0.01, num_iter = 30000, precision = None):\n",
    "        self.learning_rate = learning_rate\n",
    "        self.num_iter = num_iter\n",
    "        self.normalize = normalize\n",
    "        self.hidden_layer_sizes = hidden_layer_sizes\n",
    "        self.precision = precision\n",
    "    \n",
    "    def __normalize(self, X, mean = None, std = None):\n",
    "        \"\"\"\n",
    "        Зверніть увагу, що нормалізація вхідних даних є дуже важливою для швидкодії нейронних мереж.\n",
    "        \"\"\"\n",
    "        n = X.shape[0]\n",
    "        m = mean\n",
    "        if m is None:\n",
    "            m = np.mean(X, axis=1).reshape((n, 1))\n",
    "        s = std\n",
    "        if s is None:\n",
    "            s = np.std(X, axis=1).reshape((n, 1))\n",
    "        X_new = (X - m) / s**2\n",
    "        return X_new, m, s\n",
    "\n",
    "    def softmax(self, x):\n",
    "        return np.exp(x) / np.sum(np.exp(x)) \n",
    "        \n",
    "    def __initialize_parameters(self):\n",
    "        hidden_layer_sizes = self.hidden_layer_sizes\n",
    "        parameters = {}\n",
    "        for l in range(1, len(hidden_layer_sizes)):\n",
    "            parameters['W' + str(l)] = np.random.randn(hidden_layer_sizes[l], hidden_layer_sizes[l-1]) * 0.01\n",
    "            parameters['b' + str(l)] = np.zeros((hidden_layer_sizes[l], 1))\n",
    "        \n",
    "        self.parameters = parameters\n",
    "\n",
    "\n",
    "    def __forward_linear_activation(self, A_prev, W, b): \n",
    "        Z = np.dot(W, A_prev) + b\n",
    "        linear_cache = (A_prev, W, b)\n",
    "        A = self.softmax(Z)\n",
    "        activation_cache = Z      \n",
    "        cache = (linear_cache, activation_cache)\n",
    "        return A, cache\n",
    "    \n",
    "    def __multilayer_forward(self, X):       \n",
    "        parameters = self.parameters\n",
    "        caches = []\n",
    "        A = X\n",
    "        L = len(parameters) // 2\n",
    "\n",
    "        for l in range(1, L):\n",
    "            A_prev = A \n",
    "            A, cache = self.__forward_linear_activation(A_prev, parameters[\"W\"+str(l)], parameters[\"b\"+str(l)])\n",
    "            caches.append(cache)\n",
    "            \n",
    "        AL, cache = self.__forward_linear_activation(A, parameters[\"W\"+str(L)], parameters[\"b\"+str(L)])\n",
    "        caches.append(cache)        \n",
    "        assert(AL.shape == (1,X.shape[1]))\n",
    "        return AL, caches\n",
    "\n",
    "\n",
    "    def __backward_linear_activation(self, dA, cache):\n",
    "        \n",
    "        linear_cache, activation_cache = cache     \n",
    "        Z = activation_cache\n",
    "        s = 1/(1+np.exp(-Z))\n",
    "        dZ = dA * s * (1-s)   \n",
    "        A_prev, W, b = linear_cache\n",
    "        m = A_prev.shape[1]\n",
    "        dW = 1 / m * np.dot(dZ, A_prev.T)\n",
    "        db = 1 / m * np.sum(dZ, axis=1, keepdims=True)\n",
    "        dA_prev = np.dot(W.T, dZ)\n",
    "        return dA_prev, dW, db\n",
    "\n",
    "\n",
    "    def __multilayer_backward(self, X, Y, caches):\n",
    "        grads = {}\n",
    "        AL = X\n",
    "        L = len(caches)\n",
    "        m = AL.shape[1]\n",
    "        Y = Y.reshape(AL.shape)\n",
    "        dAL = -(np.divide(Y, AL) - np.divide(1 - Y, 1 - AL)) \n",
    "        current_cache = caches[L-1]\n",
    "        grads[\"dA\" + str(L-1)], grads[\"dW\" + str(L)], grads[\"db\" + str(L)] = self.__backward_linear_activation(dAL, current_cache)\n",
    "        \n",
    "        for l in reversed(range(L-1)):\n",
    "            current_cache = caches[l]\n",
    "            dA_prev_temp, dW_temp, db_temp = self.__backward_linear_activation(grads[\"dA\" + str(l + 1)], current_cache)\n",
    "            grads[\"dA\" + str(l)] = dA_prev_temp\n",
    "            grads[\"dW\" + str(l + 1)] = dW_temp\n",
    "            grads[\"db\" + str(l + 1)] = db_temp\n",
    "            \n",
    "        return grads\n",
    "    \n",
    "\n",
    "    \n",
    "    def compute_cost(self, A, Y):\n",
    "        m = Y.shape[1]\n",
    "        res = Y * np.log(A) + (1 - Y) * np.log(1 - A)\n",
    "        J = -(1 / m) * np.sum(res)\n",
    "        return J\n",
    "    \n",
    "    def __update_parameters(self, grads):\n",
    "        parameters = self.parameters;\n",
    "        learning_rate = self.learning_rate\n",
    "        L = len(parameters) // 2\n",
    "\n",
    "        for l in range(L):\n",
    "            parameters[\"W\" + str(l+1)] = parameters[\"W\" + str(l+1)] - learning_rate * grads[\"dW\" + str(l+1)]\n",
    "            parameters[\"b\" + str(l+1)] = parameters[\"b\" + str(l+1)] - learning_rate * grads[\"db\" + str(l+1)]\n",
    "            \n",
    "        self.parameters = parameters;\n",
    "        \n",
    "\n",
    "    def fit(self, X_vert, Y_vert, print_cost = True):  \n",
    "        X, Y = X_vert.T, Y_vert.T        \n",
    "        if self.normalize:\n",
    "            X, self.__mean, self.__std = self.__normalize(X)        \n",
    "        costs = []       \n",
    "        self.__initialize_parameters()\n",
    "        for i in range(0, self.num_iter):\n",
    "            AL, caches = self.__multilayer_forward(X)           \n",
    "            cost = self.compute_cost(AL, Y)          \n",
    "            grads = self.__multilayer_backward(AL, Y, caches)         \n",
    "            self.__update_parameters(grads)       \n",
    "            if print_cost and i % 100 == 0:\n",
    "                print (\"Cost after iteration %i: %f\" %(i, cost))\n",
    "            if print_cost and i % 100 == 0:\n",
    "                costs.append(cost)\n",
    "                \n",
    "                if len(costs) > 1 and self.precision != None and np.abs(costs[-2] - costs[-1]) < self.precision:\n",
    "                    print('Stopping gradient descent ...')\n",
    "                    break\n",
    "\n",
    "        if print_cost:\n",
    "                plt.plot(costs)\n",
    "                plt.ylabel(\"Cost\")\n",
    "                plt.xlabel(\"Iteration, *100\")\n",
    "                plt.show()\n",
    "\n",
    "    def predict_proba(self, X_vert):\n",
    "        X = X_vert.T\n",
    "        if self.normalize:\n",
    "            X, _, _ = self.__normalize(X, self.__mean, self.__std)\n",
    "        \n",
    "        probs = self.__multilayer_forward(X)[0]\n",
    "        \n",
    "        return np.column_stack((probs.T, 1 - probs.T))\n",
    "    \n",
    "    def predict(self, X_vert):\n",
    "        positive_probs = self.predict_proba(X_vert)[:, 0]\n",
    "        return (positive_probs >= 0.5).astype(int)"
   ]
  },
  {
   "cell_type": "code",
   "execution_count": 31,
   "metadata": {},
   "outputs": [
    {
     "name": "stdout",
     "output_type": "stream",
     "text": [
      "Training set: X=(118, 2), y=(118,)\n"
     ]
    }
   ],
   "source": [
    "data_columns = [\"test1\", \"test2\"]\n",
    "target_column = \"passed\"\n",
    "df = pd.read_csv(\"tests.csv\")\n",
    "X, Y = df[data_columns].values, df[target_column]\n",
    "print('Training set: X={}, y={}'.format(X.shape, Y.shape))"
   ]
  },
  {
   "cell_type": "code",
   "execution_count": 32,
   "metadata": {},
   "outputs": [
    {
     "data": {
      "image/png": "[encoded data removed]",
      "text/plain": [
       "<Figure size 432x288 with 1 Axes>"
      ]
     },
     "metadata": {
      "needs_background": "light"
     },
     "output_type": "display_data"
    }
   ],
   "source": [
    "plot_data(X, Y)"
   ]
  },
  {
   "cell_type": "code",
   "execution_count": 33,
   "metadata": {},
   "outputs": [
    {
     "name": "stdout",
     "output_type": "stream",
     "text": [
      "Training set: X=(94, 2), y=(94,)\n",
      "Test set: X=(24, 2), y=(24,)\n"
     ]
    }
   ],
   "source": [
    "X_train, X_test, y_train, y_test = train_test_split(X, Y, test_size = 0.2, shuffle = True)\n",
    "\n",
    "print('Training set: X={}, y={}'.format(X_train.shape, y_train.shape))\n",
    "print('Test set: X={}, y={}'.format(X_test.shape, y_test.shape))"
   ]
  },
  {
   "cell_type": "code",
   "execution_count": 34,
   "metadata": {},
   "outputs": [],
   "source": [
    "cls = NeuralNet(hidden_layer_sizes = [2,2,1], normalize = True, learning_rate = 0.5, num_iter = 15000) \n",
    "\n",
    "X_train, X_test, Y_train, Y_test = train_test_split(X, Y.values.reshape((Y.shape[0], 1)), test_size = 0.2, random_state=10)"
   ]
  },
  {
   "cell_type": "code",
   "execution_count": 36,
   "metadata": {},
   "outputs": [
    {
     "name": "stdout",
     "output_type": "stream",
     "text": [
      "Cost after iteration 0: 2.469872\n",
      "Cost after iteration 100: 2.469872\n",
      "Cost after iteration 200: 2.469872\n",
      "Cost after iteration 300: 2.469872\n",
      "Cost after iteration 400: 2.469872\n",
      "Cost after iteration 500: 2.469872\n",
      "Cost after iteration 600: 2.469872\n",
      "Cost after iteration 700: 2.469872\n",
      "Cost after iteration 800: 2.469872\n",
      "Cost after iteration 900: 2.469872\n",
      "Cost after iteration 1000: 2.469872\n",
      "Cost after iteration 1100: 2.469872\n",
      "Cost after iteration 1200: 2.469872\n",
      "Cost after iteration 1300: 2.469872\n",
      "Cost after iteration 1400: 2.469872\n",
      "Cost after iteration 1500: 2.469872\n",
      "Cost after iteration 1600: 2.469872\n",
      "Cost after iteration 1700: 2.469872\n",
      "Cost after iteration 1800: 2.469872\n",
      "Cost after iteration 1900: 2.469872\n",
      "Cost after iteration 2000: 2.469872\n",
      "Cost after iteration 2100: 2.469872\n",
      "Cost after iteration 2200: 2.469872\n",
      "Cost after iteration 2300: 2.469871\n",
      "Cost after iteration 2400: 2.469871\n",
      "Cost after iteration 2500: 2.469871\n",
      "Cost after iteration 2600: 2.469871\n",
      "Cost after iteration 2700: 2.469871\n",
      "Cost after iteration 2800: 2.469871\n",
      "Cost after iteration 2900: 2.469871\n",
      "Cost after iteration 3000: 2.469871\n",
      "Cost after iteration 3100: 2.469871\n",
      "Cost after iteration 3200: 2.469871\n",
      "Cost after iteration 3300: 2.469871\n",
      "Cost after iteration 3400: 2.469871\n",
      "Cost after iteration 3500: 2.469871\n",
      "Cost after iteration 3600: 2.469871\n",
      "Cost after iteration 3700: 2.469871\n",
      "Cost after iteration 3800: 2.469871\n",
      "Cost after iteration 3900: 2.469871\n",
      "Cost after iteration 4000: 2.469871\n",
      "Cost after iteration 4100: 2.469871\n",
      "Cost after iteration 4200: 2.469871\n",
      "Cost after iteration 4300: 2.469871\n",
      "Cost after iteration 4400: 2.469871\n",
      "Cost after iteration 4500: 2.469871\n",
      "Cost after iteration 4600: 2.469871\n",
      "Cost after iteration 4700: 2.469871\n",
      "Cost after iteration 4800: 2.469871\n",
      "Cost after iteration 4900: 2.469871\n",
      "Cost after iteration 5000: 2.469871\n",
      "Cost after iteration 5100: 2.469871\n",
      "Cost after iteration 5200: 2.469871\n",
      "Cost after iteration 5300: 2.469871\n",
      "Cost after iteration 5400: 2.469871\n",
      "Cost after iteration 5500: 2.469871\n",
      "Cost after iteration 5600: 2.469871\n",
      "Cost after iteration 5700: 2.469871\n",
      "Cost after iteration 5800: 2.469871\n",
      "Cost after iteration 5900: 2.469871\n",
      "Cost after iteration 6000: 2.469871\n",
      "Cost after iteration 6100: 2.469871\n",
      "Cost after iteration 6200: 2.469871\n",
      "Cost after iteration 6300: 2.469871\n",
      "Cost after iteration 6400: 2.469871\n",
      "Cost after iteration 6500: 2.469871\n",
      "Cost after iteration 6600: 2.469871\n",
      "Cost after iteration 6700: 2.469871\n",
      "Cost after iteration 6800: 2.469871\n",
      "Cost after iteration 6900: 2.469871\n",
      "Cost after iteration 7000: 2.469871\n",
      "Cost after iteration 7100: 2.469871\n",
      "Cost after iteration 7200: 2.469871\n",
      "Cost after iteration 7300: 2.469871\n",
      "Cost after iteration 7400: 2.469871\n",
      "Cost after iteration 7500: 2.469871\n",
      "Cost after iteration 7600: 2.469871\n",
      "Cost after iteration 7700: 2.469871\n",
      "Cost after iteration 7800: 2.469871\n",
      "Cost after iteration 7900: 2.469871\n",
      "Cost after iteration 8000: 2.469871\n",
      "Cost after iteration 8100: 2.469871\n",
      "Cost after iteration 8200: 2.469871\n",
      "Cost after iteration 8300: 2.469871\n",
      "Cost after iteration 8400: 2.469871\n",
      "Cost after iteration 8500: 2.469871\n",
      "Cost after iteration 8600: 2.469871\n",
      "Cost after iteration 8700: 2.469871\n",
      "Cost after iteration 8800: 2.469871\n",
      "Cost after iteration 8900: 2.469871\n",
      "Cost after iteration 9000: 2.469871\n",
      "Cost after iteration 9100: 2.469871\n",
      "Cost after iteration 9200: 2.469871\n",
      "Cost after iteration 9300: 2.469871\n",
      "Cost after iteration 9400: 2.469871\n",
      "Cost after iteration 9500: 2.469871\n",
      "Cost after iteration 9600: 2.469871\n",
      "Cost after iteration 9700: 2.469871\n",
      "Cost after iteration 9800: 2.469871\n",
      "Cost after iteration 9900: 2.469871\n",
      "Cost after iteration 10000: 2.469871\n",
      "Cost after iteration 10100: 2.469871\n",
      "Cost after iteration 10200: 2.469871\n",
      "Cost after iteration 10300: 2.469871\n",
      "Cost after iteration 10400: 2.469871\n",
      "Cost after iteration 10500: 2.469871\n",
      "Cost after iteration 10600: 2.469871\n",
      "Cost after iteration 10700: 2.469871\n",
      "Cost after iteration 10800: 2.469871\n",
      "Cost after iteration 10900: 2.469871\n",
      "Cost after iteration 11000: 2.469871\n",
      "Cost after iteration 11100: 2.469871\n",
      "Cost after iteration 11200: 2.469871\n",
      "Cost after iteration 11300: 2.469871\n",
      "Cost after iteration 11400: 2.469871\n",
      "Cost after iteration 11500: 2.469871\n",
      "Cost after iteration 11600: 2.469871\n",
      "Cost after iteration 11700: 2.469871\n",
      "Cost after iteration 11800: 2.469871\n",
      "Cost after iteration 11900: 2.469871\n",
      "Cost after iteration 12000: 2.469871\n",
      "Cost after iteration 12100: 2.469871\n",
      "Cost after iteration 12200: 2.469871\n",
      "Cost after iteration 12300: 2.469871\n",
      "Cost after iteration 12400: 2.469871\n",
      "Cost after iteration 12500: 2.469871\n",
      "Cost after iteration 12600: 2.469871\n",
      "Cost after iteration 12700: 2.469871\n",
      "Cost after iteration 12800: 2.469871\n",
      "Cost after iteration 12900: 2.469871\n",
      "Cost after iteration 13000: 2.469871\n",
      "Cost after iteration 13100: 2.469871\n",
      "Cost after iteration 13200: 2.469871\n",
      "Cost after iteration 13300: 2.469871\n",
      "Cost after iteration 13400: 2.469871\n",
      "Cost after iteration 13500: 2.469871\n",
      "Cost after iteration 13600: 2.469871\n",
      "Cost after iteration 13700: 2.469871\n",
      "Cost after iteration 13800: 2.469871\n",
      "Cost after iteration 13900: 2.469871\n",
      "Cost after iteration 14000: 2.469871\n",
      "Cost after iteration 14100: 2.469871\n",
      "Cost after iteration 14200: 2.469871\n",
      "Cost after iteration 14300: 2.469871\n",
      "Cost after iteration 14400: 2.469871\n",
      "Cost after iteration 14500: 2.469871\n",
      "Cost after iteration 14600: 2.469871\n",
      "Cost after iteration 14700: 2.469871\n",
      "Cost after iteration 14800: 2.469871\n",
      "Cost after iteration 14900: 2.469871\n"
     ]
    },
    {
     "data": {
      "image/png": "[encoded data removed]",
      "text/plain": [
       "<Figure size 432x288 with 1 Axes>"
      ]
     },
     "metadata": {
      "needs_background": "light"
     },
     "output_type": "display_data"
    }
   ],
   "source": [
    "cls.fit(X_train, Y_train)"
   ]
  },
  {
   "cell_type": "code",
   "execution_count": 22,
   "metadata": {},
   "outputs": [
    {
     "data": {
      "text/plain": [
       "array([[0.00847466, 0.99152534],\n",
       "       [0.00847442, 0.99152558],\n",
       "       [0.00847473, 0.99152527],\n",
       "       [0.00847441, 0.99152559],\n",
       "       [0.00847483, 0.99152517],\n",
       "       [0.00847471, 0.99152529],\n",
       "       [0.00847484, 0.99152516],\n",
       "       [0.00847459, 0.99152541],\n",
       "       [0.0084745 , 0.9915255 ],\n",
       "       [0.00847469, 0.99152531],\n",
       "       [0.00847466, 0.99152534],\n",
       "       [0.00847479, 0.99152521],\n",
       "       [0.00847437, 0.99152563],\n",
       "       [0.0084744 , 0.9915256 ],\n",
       "       [0.00847473, 0.99152527],\n",
       "       [0.00847468, 0.99152532],\n",
       "       [0.00847469, 0.99152531],\n",
       "       [0.00847455, 0.99152545],\n",
       "       [0.00847473, 0.99152527],\n",
       "       [0.00847476, 0.99152524],\n",
       "       [0.00847452, 0.99152548],\n",
       "       [0.00847471, 0.99152529],\n",
       "       [0.0084747 , 0.9915253 ],\n",
       "       [0.00847439, 0.99152561],\n",
       "       [0.00847462, 0.99152538],\n",
       "       [0.00847447, 0.99152553],\n",
       "       [0.00847479, 0.99152521],\n",
       "       [0.00847449, 0.99152551],\n",
       "       [0.00847474, 0.99152526],\n",
       "       [0.00847468, 0.99152532],\n",
       "       [0.00847446, 0.99152554],\n",
       "       [0.00847468, 0.99152532],\n",
       "       [0.00847477, 0.99152523],\n",
       "       [0.00847468, 0.99152532],\n",
       "       [0.00847428, 0.99152572],\n",
       "       [0.00847455, 0.99152545],\n",
       "       [0.00847439, 0.99152561],\n",
       "       [0.00847448, 0.99152552],\n",
       "       [0.00847453, 0.99152547],\n",
       "       [0.00847432, 0.99152568],\n",
       "       [0.00847437, 0.99152563],\n",
       "       [0.00847476, 0.99152524],\n",
       "       [0.00847485, 0.99152515],\n",
       "       [0.00847458, 0.99152542],\n",
       "       [0.00847434, 0.99152566],\n",
       "       [0.00847459, 0.99152541],\n",
       "       [0.00847482, 0.99152518],\n",
       "       [0.00847429, 0.99152571],\n",
       "       [0.00847433, 0.99152567],\n",
       "       [0.00847474, 0.99152526],\n",
       "       [0.00847444, 0.99152556],\n",
       "       [0.00847453, 0.99152547],\n",
       "       [0.00847464, 0.99152536],\n",
       "       [0.00847431, 0.99152569],\n",
       "       [0.00847477, 0.99152523],\n",
       "       [0.00847452, 0.99152548],\n",
       "       [0.00847488, 0.99152512],\n",
       "       [0.00847439, 0.99152561],\n",
       "       [0.0084747 , 0.9915253 ],\n",
       "       [0.00847463, 0.99152537],\n",
       "       [0.00847464, 0.99152536],\n",
       "       [0.00847446, 0.99152554],\n",
       "       [0.00847438, 0.99152562],\n",
       "       [0.00847436, 0.99152564],\n",
       "       [0.00847469, 0.99152531],\n",
       "       [0.00847445, 0.99152555],\n",
       "       [0.00847487, 0.99152513],\n",
       "       [0.00847478, 0.99152522],\n",
       "       [0.00847466, 0.99152534],\n",
       "       [0.00847434, 0.99152566],\n",
       "       [0.00847451, 0.99152549],\n",
       "       [0.00847446, 0.99152554],\n",
       "       [0.00847457, 0.99152543],\n",
       "       [0.00847452, 0.99152548],\n",
       "       [0.00847473, 0.99152527],\n",
       "       [0.00847459, 0.99152541],\n",
       "       [0.00847451, 0.99152549],\n",
       "       [0.00847451, 0.99152549],\n",
       "       [0.00847461, 0.99152539],\n",
       "       [0.00847474, 0.99152526],\n",
       "       [0.00847434, 0.99152566],\n",
       "       [0.00847453, 0.99152547],\n",
       "       [0.00847464, 0.99152536],\n",
       "       [0.00847474, 0.99152526],\n",
       "       [0.00847442, 0.99152558],\n",
       "       [0.00847464, 0.99152536],\n",
       "       [0.00847479, 0.99152521],\n",
       "       [0.00847449, 0.99152551],\n",
       "       [0.00847458, 0.99152542],\n",
       "       [0.00847437, 0.99152563],\n",
       "       [0.00847439, 0.99152561],\n",
       "       [0.00847469, 0.99152531],\n",
       "       [0.00847462, 0.99152538],\n",
       "       [0.00847442, 0.99152558],\n",
       "       [0.00847435, 0.99152565],\n",
       "       [0.0084748 , 0.9915252 ],\n",
       "       [0.0084745 , 0.9915255 ],\n",
       "       [0.00847482, 0.99152518],\n",
       "       [0.00847438, 0.99152562],\n",
       "       [0.00847475, 0.99152525],\n",
       "       [0.00847448, 0.99152552],\n",
       "       [0.00847453, 0.99152547],\n",
       "       [0.00847441, 0.99152559],\n",
       "       [0.00847435, 0.99152565],\n",
       "       [0.0084744 , 0.9915256 ],\n",
       "       [0.00847451, 0.99152549],\n",
       "       [0.00847462, 0.99152538],\n",
       "       [0.00847476, 0.99152524],\n",
       "       [0.00847445, 0.99152555],\n",
       "       [0.00847445, 0.99152555],\n",
       "       [0.00847457, 0.99152543],\n",
       "       [0.00847463, 0.99152537],\n",
       "       [0.00847446, 0.99152554],\n",
       "       [0.00847458, 0.99152542],\n",
       "       [0.00847477, 0.99152523],\n",
       "       [0.00847444, 0.99152556],\n",
       "       [0.0084748 , 0.9915252 ],\n",
       "       [0.00847466, 0.99152534]])"
      ]
     },
     "execution_count": 22,
     "metadata": {},
     "output_type": "execute_result"
    }
   ],
   "source": [
    "Y_prob = cls.predict_proba(X)\n",
    "Y_prob"
   ]
  },
  {
   "cell_type": "code",
   "execution_count": 37,
   "metadata": {},
   "outputs": [
    {
     "data": {
      "text/plain": [
       "0.5084745762711864"
      ]
     },
     "execution_count": 37,
     "metadata": {},
     "output_type": "execute_result"
    }
   ],
   "source": [
    "Y_hat = cls.predict(X)\n",
    "accuracy_score(Y, Y_hat)"
   ]
  },
  {
   "cell_type": "code",
   "execution_count": 38,
   "metadata": {},
   "outputs": [
    {
     "name": "stderr",
     "output_type": "stream",
     "text": [
      "D:\\Anaconda\\lib\\site-packages\\ipykernel_launcher.py:10: UserWarning: No contour levels were found within the data range.\n",
      "  # Remove the CWD from sys.path while we load stuff.\n"
     ]
    },
    {
     "data": {
      "image/png": "[encoded data removed]",
      "text/plain": [
       "<Figure size 432x288 with 1 Axes>"
      ]
     },
     "metadata": {
      "needs_background": "light"
     },
     "output_type": "display_data"
    }
   ],
   "source": [
    "plot_data(X, Y)\n",
    "plot_surface(cls, X[:, 0], X[:, 1])"
   ]
  },
  {
   "cell_type": "code",
   "execution_count": 39,
   "metadata": {},
   "outputs": [],
   "source": [
    "from sklearn.neural_network import MLPClassifier\n",
    "clf = MLPClassifier(hidden_layer_sizes = (20,), max_iter = 100000, activation = 'relu', solver = 'sgd', learning_rate_init = 0.01, learning_rate = 'constant')"
   ]
  },
  {
   "cell_type": "code",
   "execution_count": 40,
   "metadata": {},
   "outputs": [
    {
     "data": {
      "text/plain": [
       "MLPClassifier(activation='relu', alpha=0.0001, batch_size='auto', beta_1=0.9,\n",
       "              beta_2=0.999, early_stopping=False, epsilon=1e-08,\n",
       "              hidden_layer_sizes=(20,), learning_rate='constant',\n",
       "              learning_rate_init=0.01, max_iter=100000, momentum=0.9,\n",
       "              n_iter_no_change=10, nesterovs_momentum=True, power_t=0.5,\n",
       "              random_state=None, shuffle=True, solver='sgd', tol=0.0001,\n",
       "              validation_fraction=0.1, verbose=False, warm_start=False)"
      ]
     },
     "execution_count": 40,
     "metadata": {},
     "output_type": "execute_result"
    }
   ],
   "source": [
    "clf.fit(X, Y)"
   ]
  },
  {
   "cell_type": "code",
   "execution_count": 41,
   "metadata": {},
   "outputs": [
    {
     "data": {
      "image/png": "[encoded data removed]",
      "text/plain": [
       "<Figure size 432x288 with 1 Axes>"
      ]
     },
     "metadata": {
      "needs_background": "light"
     },
     "output_type": "display_data"
    }
   ],
   "source": [
    "plot_data(X, Y)\n",
    "plot_surface(clf, X[:, 0], X[:, 1])"
   ]
  },
  {
   "cell_type": "code",
   "execution_count": 42,
   "metadata": {},
   "outputs": [
    {
     "data": {
      "text/plain": [
       "0.8559322033898306"
      ]
     },
     "execution_count": 42,
     "metadata": {},
     "output_type": "execute_result"
    }
   ],
   "source": [
    "accuracy_score(Y, clf.predict(X))"
   ]
  },
  {
   "cell_type": "code",
   "execution_count": null,
   "metadata": {},
   "outputs": [],
   "source": []
  }
 ],
 "metadata": {
  "kernelspec": {
   "display_name": "Python 3",
   "language": "python",
   "name": "python3"
  },
  "language_info": {
   "codemirror_mode": {
    "name": "ipython",
    "version": 3
   },
   "file_extension": ".py",
   "mimetype": "text/x-python",
   "name": "python",
   "nbconvert_exporter": "python",
   "pygments_lexer": "ipython3",
   "version": "3.7.4"
  }
 },
 "nbformat": 4,
 "nbformat_minor": 2
}
